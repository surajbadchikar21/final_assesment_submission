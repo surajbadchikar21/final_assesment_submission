{
 "cells": [
  {
   "cell_type": "code",
   "execution_count": 0,
   "metadata": {
    "application/vnd.databricks.v1+cell": {
     "cellMetadata": {
      "byteLimit": 2048000,
      "rowLimit": 10000
     },
     "inputWidgets": {},
     "nuid": "53967688-3659-40a2-a43f-d9e2fd387c20",
     "showTitle": false,
     "tableResultSettingsMap": {},
     "title": ""
    }
   },
   "outputs": [],
   "source": [
    "%run ./common_functions"
   ]
  },
  {
   "cell_type": "code",
   "execution_count": 0,
   "metadata": {
    "application/vnd.databricks.v1+cell": {
     "cellMetadata": {
      "byteLimit": 2048000,
      "rowLimit": 10000
     },
     "inputWidgets": {},
     "nuid": "4b5cc54a-f7e2-4905-980e-576b85476801",
     "showTitle": false,
     "tableResultSettingsMap": {},
     "title": ""
    }
   },
   "outputs": [],
   "source": [
    "from pyspark.sql.types import TimestampType"
   ]
  },
  {
   "cell_type": "code",
   "execution_count": 0,
   "metadata": {
    "application/vnd.databricks.v1+cell": {
     "cellMetadata": {
      "byteLimit": 2048000,
      "rowLimit": 10000
     },
     "inputWidgets": {},
     "nuid": "48ac2c73-67cc-462c-a0c4-27a16c5cd554",
     "showTitle": false,
     "tableResultSettingsMap": {},
     "title": ""
    }
   },
   "outputs": [
    {
     "output_type": "execute_result",
     "data": {
      "text/plain": [
       "['match_performance_bronze_df',\n",
       " 'match_stadium_bronze_df',\n",
       " 'player_performance_bronze_df',\n",
       " 'player_team_bronze_df',\n",
       " 'stadium_bronze_df',\n",
       " 'team_bronze_df']"
      ]
     },
     "execution_count": 4,
     "metadata": {},
     "output_type": "execute_result"
    }
   ],
   "source": [
    "src_container = \"ipl-bronze\"\n",
    "storage_acc = \"ipldataadlsg2\"\n",
    "dynamic_dfs = []\n",
    "\n",
    "for path in list_files_in_blob(src_container, storage_acc):\n",
    "    # Extract folder name \n",
    "    folder_name = path.strip(\"/\").split(\"/\")[-1]  # e.g., \"match_performance_bronze\"\n",
    "    # Variable name like 'match_performance_bronze_df'\n",
    "    var_name = f\"{folder_name}_df\"\n",
    "    df = spark.read.format('parquet').load(path)\n",
    "    globals()[var_name] = df\n",
    "    # list to track the df names \n",
    "    dynamic_dfs.append(var_name)\n",
    "\n",
    "dynamic_dfs"
   ]
  },
  {
   "cell_type": "code",
   "execution_count": 0,
   "metadata": {
    "application/vnd.databricks.v1+cell": {
     "cellMetadata": {
      "byteLimit": 2048000,
      "rowLimit": 10000
     },
     "inputWidgets": {},
     "nuid": "10952741-5eaa-4269-bf41-6c69cde67fa0",
     "showTitle": false,
     "tableResultSettingsMap": {},
     "title": ""
    }
   },
   "outputs": [
    {
     "output_type": "stream",
     "name": "stdout",
     "output_type": "stream",
     "text": [
      "match_performance_bronze_df :-\n+--------+-------+----------------+-----------+-------------+------------+--------------+-----------+\n|match_id|team_id|opponent_team_id|runs_scored|wickets_taken|match_result|ingestion_date|source_file|\n+--------+-------+----------------+-----------+-------------+------------+--------------+-----------+\n|       0|      0|               0|          1|            0|           0|             0|          0|\n+--------+-------+----------------+-----------+-------------+------------+--------------+-----------+\n\nmatch_stadium_bronze_df :-\n+--------+----------+--------------+-----------+\n|match_id|stadium_id|ingestion_date|source_file|\n+--------+----------+--------------+-----------+\n|       0|         0|             0|          0|\n+--------+----------+--------------+-----------+\n\nplayer_performance_bronze_df :-\n+--------+---------+-----------+-------------+----------+--------------+-----------+\n|match_id|player_id|runs_scored|wickets_taken|ball_taken|ingestion_date|source_file|\n+--------+---------+-----------+-------------+----------+--------------+-----------+\n|       0|        0|          0|            0|         0|             0|          0|\n+--------+---------+-----------+-------------+----------+--------------+-----------+\n\nplayer_team_bronze_df :-\n+---------+-----------+-------+-----------+--------------+-----------+\n|player_id|player_name|team_id|player_role|ingestion_date|source_file|\n+---------+-----------+-------+-----------+--------------+-----------+\n|        0|          1|      0|          1|             0|          0|\n+---------+-----------+-------+-----------+--------------+-----------+\n\nstadium_bronze_df :-\n+----------+------------+----+--------+--------------+-----------+\n|stadium_id|stadium_name|city|capacity|ingestion_date|source_file|\n+----------+------------+----+--------+--------------+-----------+\n|         0|           0|   1|       1|             0|          0|\n+----------+------------+----+--------+--------------+-----------+\n\nteam_bronze_df :-\n+-------+---------+-----------+-------+--------------+-----------+\n|team_id|team_name|home_ground|captain|ingestion_date|source_file|\n+-------+---------+-----------+-------+--------------+-----------+\n|      0|        0|          1|      1|             0|          0|\n+-------+---------+-----------+-------+--------------+-----------+\n\n"
     ]
    }
   ],
   "source": [
    "# checking for null valuesin the columns in the dataframes\n",
    "for i in dynamic_dfs:\n",
    "    print(i+ \" :-\")\n",
    "    null_counts(globals()[i]).show()\n",
    "\n",
    "    # so match_performance_bronze_df has null values\n",
    "    # player_team_bronze_df has null values\n",
    "    # stadium_bronze_df has null values\n",
    "    # team_bronze_df has null values"
   ]
  },
  {
   "cell_type": "code",
   "execution_count": 0,
   "metadata": {
    "application/vnd.databricks.v1+cell": {
     "cellMetadata": {
      "byteLimit": 2048000,
      "rowLimit": 10000
     },
     "inputWidgets": {},
     "nuid": "5aecee4d-ef29-4eae-87f1-fae82828175b",
     "showTitle": false,
     "tableResultSettingsMap": {},
     "title": ""
    }
   },
   "outputs": [
    {
     "output_type": "display_data",
     "data": {
      "text/html": [
       "<style scoped>\n",
       "  .table-result-container {\n",
       "    max-height: 300px;\n",
       "    overflow: auto;\n",
       "  }\n",
       "  table, th, td {\n",
       "    border: 1px solid black;\n",
       "    border-collapse: collapse;\n",
       "  }\n",
       "  th, td {\n",
       "    padding: 5px;\n",
       "  }\n",
       "  th {\n",
       "    text-align: left;\n",
       "  }\n",
       "</style><div class='table-result-container'><table class='table-result'><thead style='background-color: white'><tr><th>match_id</th><th>team_id</th><th>opponent_team_id</th><th>runs_scored</th><th>wickets_taken</th><th>match_result</th></tr></thead><tbody><tr><td>201</td><td>4</td><td>1</td><td>213.0</td><td>7</td><td>Tie</td></tr><tr><td>202</td><td>1</td><td>3</td><td>202.0</td><td>10</td><td>Loss</td></tr><tr><td>203</td><td>2</td><td>3</td><td>238.0</td><td>8</td><td>Win</td></tr><tr><td>205</td><td>4</td><td>3</td><td>123.0</td><td>8</td><td>Tie</td></tr><tr><td>206</td><td>1</td><td>2</td><td>215.0</td><td>6</td><td>Loss</td></tr><tr><td>207</td><td>5</td><td>3</td><td>211.0</td><td>5</td><td>Win</td></tr><tr><td>209</td><td>4</td><td>1</td><td>201.0</td><td>5</td><td>Tie</td></tr><tr><td>210</td><td>4</td><td>3</td><td>233.0</td><td>7</td><td>Win</td></tr><tr><td>211</td><td>5</td><td>1</td><td>144.0</td><td>10</td><td>Loss</td></tr><tr><td>212</td><td>1</td><td>5</td><td>227.0</td><td>6</td><td>Win</td></tr><tr><td>213</td><td>4</td><td>2</td><td>190.0</td><td>9</td><td>Loss</td></tr><tr><td>214</td><td>1</td><td>3</td><td>201.0</td><td>8</td><td>Win</td></tr><tr><td>215</td><td>1</td><td>3</td><td>242.0</td><td>8</td><td>Win</td></tr><tr><td>216</td><td>4</td><td>1</td><td>139.0</td><td>8</td><td>Win</td></tr><tr><td>217</td><td>5</td><td>4</td><td>238.0</td><td>6</td><td>Loss</td></tr><tr><td>218</td><td>2</td><td>1</td><td>190.0</td><td>5</td><td>Tie</td></tr><tr><td>219</td><td>2</td><td>3</td><td>194.0</td><td>7</td><td>Loss</td></tr><tr><td>220</td><td>3</td><td>1</td><td>130.0</td><td>9</td><td>Loss</td></tr></tbody></table></div>"
      ]
     },
     "metadata": {
      "application/vnd.databricks.v1+output": {
       "addedWidgets": {},
       "aggData": [],
       "aggError": "",
       "aggOverflow": false,
       "aggSchema": [],
       "aggSeriesLimitReached": false,
       "aggType": "",
       "arguments": {},
       "columnCustomDisplayInfos": {},
       "data": [
        [
         201,
         4,
         1,
         213.0,
         7,
         "Tie"
        ],
        [
         202,
         1,
         3,
         202.0,
         10,
         "Loss"
        ],
        [
         203,
         2,
         3,
         238.0,
         8,
         "Win"
        ],
        [
         205,
         4,
         3,
         123.0,
         8,
         "Tie"
        ],
        [
         206,
         1,
         2,
         215.0,
         6,
         "Loss"
        ],
        [
         207,
         5,
         3,
         211.0,
         5,
         "Win"
        ],
        [
         209,
         4,
         1,
         201.0,
         5,
         "Tie"
        ],
        [
         210,
         4,
         3,
         233.0,
         7,
         "Win"
        ],
        [
         211,
         5,
         1,
         144.0,
         10,
         "Loss"
        ],
        [
         212,
         1,
         5,
         227.0,
         6,
         "Win"
        ],
        [
         213,
         4,
         2,
         190.0,
         9,
         "Loss"
        ],
        [
         214,
         1,
         3,
         201.0,
         8,
         "Win"
        ],
        [
         215,
         1,
         3,
         242.0,
         8,
         "Win"
        ],
        [
         216,
         4,
         1,
         139.0,
         8,
         "Win"
        ],
        [
         217,
         5,
         4,
         238.0,
         6,
         "Loss"
        ],
        [
         218,
         2,
         1,
         190.0,
         5,
         "Tie"
        ],
        [
         219,
         2,
         3,
         194.0,
         7,
         "Loss"
        ],
        [
         220,
         3,
         1,
         130.0,
         9,
         "Loss"
        ]
       ],
       "datasetInfos": [],
       "dbfsResultPath": null,
       "isJsonSchema": true,
       "metadata": {},
       "overflow": false,
       "plotOptions": {
        "customPlotOptions": {},
        "displayType": "table",
        "pivotAggregation": null,
        "pivotColumns": null,
        "xColumns": null,
        "yColumns": null
       },
       "removedWidgets": [],
       "schema": [
        {
         "metadata": "{}",
         "name": "match_id",
         "type": "\"integer\""
        },
        {
         "metadata": "{}",
         "name": "team_id",
         "type": "\"integer\""
        },
        {
         "metadata": "{}",
         "name": "opponent_team_id",
         "type": "\"integer\""
        },
        {
         "metadata": "{}",
         "name": "runs_scored",
         "type": "\"double\""
        },
        {
         "metadata": "{}",
         "name": "wickets_taken",
         "type": "\"integer\""
        },
        {
         "metadata": "{}",
         "name": "match_result",
         "type": "\"string\""
        }
       ],
       "type": "table"
      }
     },
     "output_type": "display_data"
    }
   ],
   "source": [
    "# cleaning match_performance_bronze_df\n",
    "# Dropping null values from crital columns (like runs_scored or wickets_taken) and removing unknowns\n",
    "match_performance_cleaned = (\n",
    "    match_performance_bronze_df\n",
    "    .dropna(subset=[\"runs_scored\", \"wickets_taken\"])\n",
    "    .filter(col(\"match_result\").isin([\"Win\", \"Loss\", \"Tie\"]))\n",
    "    .withColumn(\"ingestion_date\", col(\"ingestion_date\").cast(TimestampType())).select(\"match_id\", \"team_id\", \"opponent_team_id\", \"runs_scored\", \"wickets_taken\", \"match_result\")\n",
    ")\n",
    "display(match_performance_cleaned)"
   ]
  },
  {
   "cell_type": "code",
   "execution_count": 0,
   "metadata": {
    "application/vnd.databricks.v1+cell": {
     "cellMetadata": {
      "byteLimit": 2048000,
      "rowLimit": 10000
     },
     "inputWidgets": {},
     "nuid": "87158ab5-a1ef-40b4-a5ee-cf058bd1ba2c",
     "showTitle": false,
     "tableResultSettingsMap": {},
     "title": ""
    }
   },
   "outputs": [
    {
     "output_type": "display_data",
     "data": {
      "text/html": [
       "<style scoped>\n",
       "  .table-result-container {\n",
       "    max-height: 300px;\n",
       "    overflow: auto;\n",
       "  }\n",
       "  table, th, td {\n",
       "    border: 1px solid black;\n",
       "    border-collapse: collapse;\n",
       "  }\n",
       "  th, td {\n",
       "    padding: 5px;\n",
       "  }\n",
       "  th {\n",
       "    text-align: left;\n",
       "  }\n",
       "</style><div class='table-result-container'><table class='table-result'><thead style='background-color: white'><tr><th>player_id</th><th>player_name</th><th>team_id</th><th>player_role</th></tr></thead><tbody><tr><td>101</td><td>Thomas Mendez</td><td>1</td><td>All-rounder</td></tr><tr><td>102</td><td>Laurie Brooks</td><td>5</td><td>Batsman</td></tr><tr><td>103</td><td>Warren Morgan</td><td>5</td><td>All-rounder</td></tr><tr><td>104</td><td>Amber Bell</td><td>2</td><td>Bowler</td></tr><tr><td>105</td><td>Shawn Bowers</td><td>1</td><td>Batsman</td></tr><tr><td>107</td><td>Autumn Chang</td><td>3</td><td>All-rounder</td></tr><tr><td>108</td><td>Jared Knox</td><td>2</td><td>Bowler</td></tr><tr><td>109</td><td>Kevin Conrad</td><td>2</td><td>Bowler</td></tr><tr><td>110</td><td>Alan Padilla</td><td>4</td><td>All-rounder</td></tr><tr><td>111</td><td>Tim Powers</td><td>4</td><td>Unknown</td></tr><tr><td>112</td><td>Brian Berry</td><td>3</td><td>Bowler</td></tr><tr><td>113</td><td>Joseph Meadows</td><td>5</td><td>Batsman</td></tr><tr><td>114</td><td>Joshua Baird</td><td>2</td><td>Bowler</td></tr><tr><td>115</td><td>Breanna Jackson</td><td>4</td><td>All-rounder</td></tr><tr><td>116</td><td>Bruce Morales</td><td>1</td><td>All-rounder</td></tr><tr><td>117</td><td>Craig Daniels</td><td>5</td><td>All-rounder</td></tr><tr><td>118</td><td>Michael Martinez</td><td>3</td><td>All-rounder</td></tr><tr><td>119</td><td>Brooke Jenkins</td><td>5</td><td>All-rounder</td></tr><tr><td>120</td><td>Justin White</td><td>1</td><td>Batsman</td></tr></tbody></table></div>"
      ]
     },
     "metadata": {
      "application/vnd.databricks.v1+output": {
       "addedWidgets": {},
       "aggData": [],
       "aggError": "",
       "aggOverflow": false,
       "aggSchema": [],
       "aggSeriesLimitReached": false,
       "aggType": "",
       "arguments": {},
       "columnCustomDisplayInfos": {},
       "data": [
        [
         101,
         "Thomas Mendez",
         1,
         "All-rounder"
        ],
        [
         102,
         "Laurie Brooks",
         5,
         "Batsman"
        ],
        [
         103,
         "Warren Morgan",
         5,
         "All-rounder"
        ],
        [
         104,
         "Amber Bell",
         2,
         "Bowler"
        ],
        [
         105,
         "Shawn Bowers",
         1,
         "Batsman"
        ],
        [
         107,
         "Autumn Chang",
         3,
         "All-rounder"
        ],
        [
         108,
         "Jared Knox",
         2,
         "Bowler"
        ],
        [
         109,
         "Kevin Conrad",
         2,
         "Bowler"
        ],
        [
         110,
         "Alan Padilla",
         4,
         "All-rounder"
        ],
        [
         111,
         "Tim Powers",
         4,
         "Unknown"
        ],
        [
         112,
         "Brian Berry",
         3,
         "Bowler"
        ],
        [
         113,
         "Joseph Meadows",
         5,
         "Batsman"
        ],
        [
         114,
         "Joshua Baird",
         2,
         "Bowler"
        ],
        [
         115,
         "Breanna Jackson",
         4,
         "All-rounder"
        ],
        [
         116,
         "Bruce Morales",
         1,
         "All-rounder"
        ],
        [
         117,
         "Craig Daniels",
         5,
         "All-rounder"
        ],
        [
         118,
         "Michael Martinez",
         3,
         "All-rounder"
        ],
        [
         119,
         "Brooke Jenkins",
         5,
         "All-rounder"
        ],
        [
         120,
         "Justin White",
         1,
         "Batsman"
        ]
       ],
       "datasetInfos": [],
       "dbfsResultPath": null,
       "isJsonSchema": true,
       "metadata": {},
       "overflow": false,
       "plotOptions": {
        "customPlotOptions": {},
        "displayType": "table",
        "pivotAggregation": null,
        "pivotColumns": null,
        "xColumns": null,
        "yColumns": null
       },
       "removedWidgets": [],
       "schema": [
        {
         "metadata": "{}",
         "name": "player_id",
         "type": "\"integer\""
        },
        {
         "metadata": "{}",
         "name": "player_name",
         "type": "\"string\""
        },
        {
         "metadata": "{}",
         "name": "team_id",
         "type": "\"integer\""
        },
        {
         "metadata": "{}",
         "name": "player_role",
         "type": "\"string\""
        }
       ],
       "type": "table"
      }
     },
     "output_type": "display_data"
    }
   ],
   "source": [
    "# cleaning player_team_bronze_df \n",
    "# Dropping null values from player_name column and replacing null values and casting ingestion_date to TimestampType\n",
    "from pyspark.sql.functions import col, when\n",
    "from pyspark.sql.types import TimestampType\n",
    "\n",
    "player_team_cleaned_df = (\n",
    "    player_team_bronze_df\n",
    "    .dropna(subset=[\"player_name\"])\n",
    "    .withColumn(\n",
    "        \"player_role\",\n",
    "        when(col(\"player_role\").isNull(), \"Unknown\").otherwise(col(\"player_role\"))\n",
    "    )\n",
    "    .withColumn(\"ingestion_date\", col(\"ingestion_date\").cast(TimestampType())).select(\"player_id\", \"player_name\", \"team_id\", \"player_role\")\n",
    ")\n",
    "\n",
    "display(player_team_cleaned_df)"
   ]
  },
  {
   "cell_type": "code",
   "execution_count": 0,
   "metadata": {
    "application/vnd.databricks.v1+cell": {
     "cellMetadata": {
      "byteLimit": 2048000,
      "rowLimit": 10000
     },
     "inputWidgets": {},
     "nuid": "0f91ddef-d365-4f9d-92d3-907a960589ba",
     "showTitle": false,
     "tableResultSettingsMap": {},
     "title": ""
    }
   },
   "outputs": [
    {
     "output_type": "display_data",
     "data": {
      "text/html": [
       "<style scoped>\n",
       "  .table-result-container {\n",
       "    max-height: 300px;\n",
       "    overflow: auto;\n",
       "  }\n",
       "  table, th, td {\n",
       "    border: 1px solid black;\n",
       "    border-collapse: collapse;\n",
       "  }\n",
       "  th, td {\n",
       "    padding: 5px;\n",
       "  }\n",
       "  th {\n",
       "    text-align: left;\n",
       "  }\n",
       "</style><div class='table-result-container'><table class='table-result'><thead style='background-color: white'><tr><th>stadium_id</th><th>stadium_name</th><th>city</th><th>capacity</th></tr></thead><tbody><tr><td>301</td><td>Wankhede Stadium</td><td>Mumbai</td><td>33108</td></tr><tr><td>302</td><td>M. A. Chidambaram Stadium</td><td>Chennai</td><td>48982</td></tr><tr><td>303</td><td>Arun Jaitley Stadium</td><td>Delhi</td><td>41820</td></tr><tr><td>304</td><td>Eden Gardens</td><td>Kolkata</td><td>66000</td></tr><tr><td>305</td><td>Rajiv Gandhi Intl. Cricket Stadium</td><td>Unknown</td><td>55000</td></tr></tbody></table></div>"
      ]
     },
     "metadata": {
      "application/vnd.databricks.v1+output": {
       "addedWidgets": {},
       "aggData": [],
       "aggError": "",
       "aggOverflow": false,
       "aggSchema": [],
       "aggSeriesLimitReached": false,
       "aggType": "",
       "arguments": {},
       "columnCustomDisplayInfos": {},
       "data": [
        [
         301,
         "Wankhede Stadium",
         "Mumbai",
         33108
        ],
        [
         302,
         "M. A. Chidambaram Stadium",
         "Chennai",
         48982
        ],
        [
         303,
         "Arun Jaitley Stadium",
         "Delhi",
         41820
        ],
        [
         304,
         "Eden Gardens",
         "Kolkata",
         66000
        ],
        [
         305,
         "Rajiv Gandhi Intl. Cricket Stadium",
         "Unknown",
         55000
        ]
       ],
       "datasetInfos": [],
       "dbfsResultPath": null,
       "isJsonSchema": true,
       "metadata": {},
       "overflow": false,
       "plotOptions": {
        "customPlotOptions": {},
        "displayType": "table",
        "pivotAggregation": null,
        "pivotColumns": null,
        "xColumns": null,
        "yColumns": null
       },
       "removedWidgets": [],
       "schema": [
        {
         "metadata": "{}",
         "name": "stadium_id",
         "type": "\"integer\""
        },
        {
         "metadata": "{}",
         "name": "stadium_name",
         "type": "\"string\""
        },
        {
         "metadata": "{}",
         "name": "city",
         "type": "\"string\""
        },
        {
         "metadata": "{}",
         "name": "capacity",
         "type": "\"integer\""
        }
       ],
       "type": "table"
      }
     },
     "output_type": "display_data"
    }
   ],
   "source": [
    "# cleaning stadium_bronze_df \n",
    "# finding null values in the capacity columns and replacing them with average of the column\n",
    "# replacing null values in city column with \"Unknown\" and casting ingestion_date to TimestampType\n",
    "from pyspark.sql.functions import avg \n",
    "avg_capacity = stadium_bronze_df.select(avg(col(\"capacity\"))).first()[0]\n",
    "\n",
    "stadium_cleaned_df = stadium_bronze_df \\\n",
    "    .withColumn(\"capacity\", when(col(\"capacity\").isNull(), int(avg_capacity)).otherwise(col(\"capacity\"))) \\\n",
    "    .withColumn(\"city\", when(col(\"city\").isNull(), \"Unknown\").otherwise(col(\"city\"))) \\\n",
    "    .withColumn(\"ingestion_date\", col(\"ingestion_date\").cast(TimestampType()))\\\n",
    "    .select(\"stadium_id\", \"stadium_name\", \"city\", \"capacity\")\n",
    "display(stadium_cleaned_df)\n"
   ]
  },
  {
   "cell_type": "code",
   "execution_count": 0,
   "metadata": {
    "application/vnd.databricks.v1+cell": {
     "cellMetadata": {
      "byteLimit": 2048000,
      "rowLimit": 10000
     },
     "inputWidgets": {},
     "nuid": "318addc7-89c7-44fc-bde8-18df358a0731",
     "showTitle": false,
     "tableResultSettingsMap": {},
     "title": ""
    }
   },
   "outputs": [
    {
     "output_type": "display_data",
     "data": {
      "text/html": [
       "<style scoped>\n",
       "  .table-result-container {\n",
       "    max-height: 300px;\n",
       "    overflow: auto;\n",
       "  }\n",
       "  table, th, td {\n",
       "    border: 1px solid black;\n",
       "    border-collapse: collapse;\n",
       "  }\n",
       "  th, td {\n",
       "    padding: 5px;\n",
       "  }\n",
       "  th {\n",
       "    text-align: left;\n",
       "  }\n",
       "</style><div class='table-result-container'><table class='table-result'><thead style='background-color: white'><tr><th>team_id</th><th>team_name</th><th>home_ground</th><th>captain</th></tr></thead><tbody><tr><td>1</td><td>Mumbai Indians</td><td>Wankhede Stadium</td><td>Rohit Sharma</td></tr><tr><td>2</td><td>Chennai Super Kings</td><td>M. A. Chidambaram Stadium</td><td>MS Dhoni</td></tr><tr><td>3</td><td>Delhi Capitals</td><td>Unknown Homeground</td><td>Rishabh Pant</td></tr><tr><td>4</td><td>Kolkata Knight Riders</td><td>Eden Gardens</td><td>Shreyas Iyer</td></tr><tr><td>5</td><td>Sunrisers Hyderabad</td><td>Rajiv Gandhi Intl. Cricket Stadium</td><td>Unknown Captain</td></tr></tbody></table></div>"
      ]
     },
     "metadata": {
      "application/vnd.databricks.v1+output": {
       "addedWidgets": {},
       "aggData": [],
       "aggError": "",
       "aggOverflow": false,
       "aggSchema": [],
       "aggSeriesLimitReached": false,
       "aggType": "",
       "arguments": {},
       "columnCustomDisplayInfos": {},
       "data": [
        [
         1,
         "Mumbai Indians",
         "Wankhede Stadium",
         "Rohit Sharma"
        ],
        [
         2,
         "Chennai Super Kings",
         "M. A. Chidambaram Stadium",
         "MS Dhoni"
        ],
        [
         3,
         "Delhi Capitals",
         "Unknown Homeground",
         "Rishabh Pant"
        ],
        [
         4,
         "Kolkata Knight Riders",
         "Eden Gardens",
         "Shreyas Iyer"
        ],
        [
         5,
         "Sunrisers Hyderabad",
         "Rajiv Gandhi Intl. Cricket Stadium",
         "Unknown Captain"
        ]
       ],
       "datasetInfos": [],
       "dbfsResultPath": null,
       "isJsonSchema": true,
       "metadata": {},
       "overflow": false,
       "plotOptions": {
        "customPlotOptions": {},
        "displayType": "table",
        "pivotAggregation": null,
        "pivotColumns": null,
        "xColumns": null,
        "yColumns": null
       },
       "removedWidgets": [],
       "schema": [
        {
         "metadata": "{}",
         "name": "team_id",
         "type": "\"integer\""
        },
        {
         "metadata": "{}",
         "name": "team_name",
         "type": "\"string\""
        },
        {
         "metadata": "{}",
         "name": "home_ground",
         "type": "\"string\""
        },
        {
         "metadata": "{}",
         "name": "captain",
         "type": "\"string\""
        }
       ],
       "type": "table"
      }
     },
     "output_type": "display_data"
    }
   ],
   "source": [
    "    # cleaning team_bronze_df\n",
    "    # replacing null values in home_ground and captain columns with \"Unknown Homeground\" and \"Unknown Captain\"\n",
    "    # casting ingestion_date to TimestampType\n",
    "    team_cleaned_df=team_bronze_df.withColumn(\"home_ground\",when(col(\"home_ground\").isNull(), \"Unknown Homeground\").otherwise(col(\"home_ground\"))).withColumn(\"captain\",when(col(\"captain\").isNull(), \"Unknown Captain\").otherwise(col(\"captain\"))) \\\n",
    "        .withColumn(\"ingestion_date\", col(\"ingestion_date\").cast(TimestampType())) \\\n",
    "        .select(\"team_id\", \"team_name\", \"home_ground\", \"captain\")\n",
    "    display(team_cleaned_df)"
   ]
  },
  {
   "cell_type": "code",
   "execution_count": 0,
   "metadata": {
    "application/vnd.databricks.v1+cell": {
     "cellMetadata": {
      "byteLimit": 2048000,
      "rowLimit": 10000
     },
     "inputWidgets": {},
     "nuid": "6a46ad45-d89f-431e-8951-20f0549fd758",
     "showTitle": false,
     "tableResultSettingsMap": {},
     "title": ""
    }
   },
   "outputs": [],
   "source": [
    "# 'match_stadium_bronze_df','player_performance_bronze_df',\n",
    "# casting ingestion_date to TimestampType\n",
    "match_stadium_cleaned_df=match_stadium_bronze_df.withColumn(\"ingestion_date\", col(\"ingestion_date\").cast(TimestampType()))\\\n",
    "    .select(\"match_id\", \"stadium_id\")\n",
    "player_performance_cleaned_df=player_performance_bronze_df.withColumn(\"ingestion_date\", col(\"ingestion_date\").cast(TimestampType())).select(\"match_id\", \"player_id\", \"runs_scored\", \"wickets_taken\", \"ball_taken\")"
   ]
  },
  {
   "cell_type": "code",
   "execution_count": 0,
   "metadata": {
    "application/vnd.databricks.v1+cell": {
     "cellMetadata": {},
     "inputWidgets": {},
     "nuid": "30c95473-c0e1-492a-bace-542902f949e1",
     "showTitle": false,
     "tableResultSettingsMap": {},
     "title": ""
    }
   },
   "outputs": [],
   "source": [
    "# viewing the dataframes to confirm the data has been cleaned\n",
    "display(match_performance_cleaned)\n",
    "display(player_team_cleaned_df)\n",
    "display(stadium_cleaned_df)\n",
    "display(team_cleaned_df)\n",
    "display(match_stadium_cleaned_df)\n",
    "display(player_performance_cleaned_df)"
   ]
  },
  {
   "cell_type": "code",
   "execution_count": 0,
   "metadata": {
    "application/vnd.databricks.v1+cell": {
     "cellMetadata": {
      "byteLimit": 2048000,
      "rowLimit": 10000
     },
     "inputWidgets": {},
     "nuid": "9169dab7-01c9-4907-b01b-7176a6861b2e",
     "showTitle": false,
     "tableResultSettingsMap": {},
     "title": ""
    }
   },
   "outputs": [],
   "source": [
    "src_container = \"ipl-silver\"\n",
    "storage_acc = \"ipldataadlsg2\""
   ]
  },
  {
   "cell_type": "code",
   "execution_count": 0,
   "metadata": {
    "application/vnd.databricks.v1+cell": {
     "cellMetadata": {
      "byteLimit": 2048000,
      "rowLimit": 10000
     },
     "inputWidgets": {},
     "nuid": "c8655113-87a1-4ffa-89f0-78fb131253db",
     "showTitle": false,
     "tableResultSettingsMap": {},
     "title": ""
    }
   },
   "outputs": [],
   "source": [
    "# using write_file_to_silver function to write the dataframes to silver container\n",
    "write_file_to_silver(match_performance_cleaned,\"match_performance.csv\")\n",
    "write_file_to_silver(player_team_cleaned_df,\"player_team.csv\")\n",
    "write_file_to_silver(stadium_cleaned_df,\"stadium.csv\")\n",
    "write_file_to_silver(team_cleaned_df,\"team.csv\")\n",
    "write_file_to_silver(match_stadium_cleaned_df,\"match_stadium.csv\")\n",
    "write_file_to_silver(player_performance_cleaned_df,\"player_performance.csv\")"
   ]
  },
  {
   "cell_type": "code",
   "execution_count": 0,
   "metadata": {
    "application/vnd.databricks.v1+cell": {
     "cellMetadata": {
      "byteLimit": 2048000,
      "rowLimit": 10000
     },
     "inputWidgets": {},
     "nuid": "a7ac8a24-8fcc-4aad-89bf-a2969ed1c7e5",
     "showTitle": false,
     "tableResultSettingsMap": {},
     "title": ""
    }
   },
   "outputs": [],
   "source": [
    "# writing files to sql database using write_df_to_sql function \n",
    "jdbc_url = \"jdbc:sqlserver://ipl-server.database.windows.net:1433;databaseName=ipl-db;encrypt=true;trustServerCertificate=false;hostNameInCertificate=*.database.windows.net;loginTimeout=30;\"\n",
    "\n",
    "connection_properties = {\n",
    "    \"user\": \"ipl-admin-server@ipl-server\",\n",
    "    \"password\": \"King@123\", \n",
    "    \"driver\": \"com.microsoft.sqlserver.jdbc.SQLServerDriver\"\n",
    "}\n",
    "\n",
    "def write_df_to_sql(df, table_name):\n",
    "    df.write \\\n",
    "        .format(\"jdbc\") \\\n",
    "        .option(\"url\", jdbc_url) \\\n",
    "        .option(\"dbtable\", f\"silver_db.{table_name}\") \\\n",
    "        .option(\"user\", user) \\\n",
    "        .option(\"password\", password) \\\n",
    "        .option(\"driver\", driver) \\\n",
    "        .mode(\"overwrite\") \\\n",
    "        .save()\n",
    "user= \"ipl-admin-server@ipl-server\"\n",
    "password= \"King@123\"\n",
    "driver=\"com.microsoft.sqlserver.jdbc.SQLServerDriver\"\n",
    "\n",
    "write_df_to_sql(match_performance_cleaned, \"match_performance_silver\")\n",
    "write_df_to_sql(player_team_cleaned_df, \"player_team_silver\")\n",
    "write_df_to_sql(stadium_cleaned_df, \"stadium_silver\")\n",
    "write_df_to_sql(team_cleaned_df, \"team_silver\")\n",
    "write_df_to_sql(match_stadium_cleaned_df, \"match_stadium_silver\")\n",
    "write_df_to_sql(player_performance_cleaned_df, \"player_performance_silver\")\n"
   ]
  }
 ],
 "metadata": {
  "application/vnd.databricks.v1+notebook": {
   "computePreferences": null,
   "dashboards": [],
   "environmentMetadata": {
    "base_environment": "",
    "environment_version": "2"
   },
   "inputWidgetPreferences": null,
   "language": "python",
   "notebookMetadata": {
    "pythonIndentUnit": 4
   },
   "notebookName": "cleaning_and_transformations",
   "widgets": {}
  },
  "language_info": {
   "name": "python"
  }
 },
 "nbformat": 4,
 "nbformat_minor": 0
}